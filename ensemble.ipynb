{
 "cells": [
  {
   "cell_type": "code",
   "execution_count": 1,
   "id": "85ade26f-84ee-437e-ba6b-1e67573efddf",
   "metadata": {},
   "outputs": [],
   "source": [
    "import pandas as pd\n",
    "import matplotlib.pyplot as plt\n",
    "import numpy as np\n",
    "import optuna\n",
    "\n",
    "from xgboost import XGBRegressor\n",
    "from lightgbm import LGBMRegressor\n",
    "from catboost import CatBoostRegressor\n",
    "from sklearn.model_selection import train_test_split\n",
    "from sklearn.metrics import r2_score\n",
    "from sklearn.ensemble import StackingRegressor"
   ]
  },
  {
   "cell_type": "code",
   "execution_count": 2,
   "id": "a04c5561-04c6-4a7c-a34d-95379311f0f7",
   "metadata": {},
   "outputs": [],
   "source": [
    "# Снятие ограничений по колонкам\n",
    "pd.set_option('display.max_columns', None)"
   ]
  },
  {
   "cell_type": "code",
   "execution_count": 3,
   "id": "4c085e0c-69b8-4c48-ba3b-7b01be75fd75",
   "metadata": {},
   "outputs": [],
   "source": [
    "df = pd.read_csv('data/train.csv')\n",
    "df_pred = pd.read_csv('data/test.csv')\n",
    "original_df = pd.read_csv('data/flood.csv')"
   ]
  },
  {
   "cell_type": "code",
   "execution_count": 4,
   "id": "0269923c-584f-40e8-8441-dfb12d9a27c9",
   "metadata": {},
   "outputs": [],
   "source": [
    "# Удаляю id\n",
    "df.drop(columns='id', inplace=True)\n",
    "df_pred.drop(columns='id', inplace=True)"
   ]
  },
  {
   "cell_type": "code",
   "execution_count": 5,
   "id": "b2ed3d02-134a-4ff5-8416-a82dc39a8a89",
   "metadata": {},
   "outputs": [],
   "source": [
    "X = df.drop(columns='FloodProbability')\n",
    "y = df['FloodProbability']\n",
    "\n",
    "X_train, X_test, y_train, y_test = train_test_split(X, y, test_size=0.2, random_state=42)"
   ]
  },
  {
   "cell_type": "code",
   "execution_count": 6,
   "id": "bf240ef3-bbba-45e6-82e1-6063d098b35e",
   "metadata": {},
   "outputs": [],
   "source": [
    "cat_params = {'random_seed': 42,\n",
    "               'verbose': 0,\n",
    "               'eval_metric': 'R2',\n",
    "               'iterations': 1498,\n",
    "               'learning_rate': 0.06715518880782499,\n",
    "               'depth': 11,\n",
    "               'l2_leaf_reg': 1.7801302641717838}\n",
    "\n",
    "lgbm_params = {\"metric\": 'R2',\n",
    "                \"verbosity\": -1,\n",
    "                \"boosting_type\": \"gbdt\",\n",
    "                \"random_state\": 42,\n",
    "                'learning_rate': 0.04267423467176455,\n",
    "                'n_estimators': 998,\n",
    "                'lambda_l1': 1.0058562181737075e-08,\n",
    "                'lambda_l2': 5.572970804653375,\n",
    "                'max_depth': 21,\n",
    "                'min_child_samples': 18,\n",
    "                'feature_fraction': 0.841233081764558,\n",
    "                'bagging_fraction': 0.8761104983674854}\n",
    "\n",
    "xgbr_params= {'max_depth': 9,\n",
    "            'learning_rate': 0.8472487450322445,\n",
    "            'n_estimators': 603,\n",
    "            'min_child_weight': 2,\n",
    "            'gamma': 0.000605797605256695,\n",
    "            'subsample': 0.7538618508364402,\n",
    "            'colsample_bytree': 0.07179130792340982,\n",
    "            'reg_alpha': 0.5002004024869536,\n",
    "            'reg_lambda': 0.27763193395884594}\n"
   ]
  },
  {
   "cell_type": "code",
   "execution_count": 9,
   "id": "63164226-bbc5-407c-847a-169a2d651e30",
   "metadata": {},
   "outputs": [],
   "source": [
    "base_models = [\n",
    "    # ('XGBoost', XGBRegressor(**xgbr_params)),\n",
    "    ('LightGBM', LGBMRegressor(**lgbm_params)),\n",
    "    ('CatBoost', CatBoostRegressor(**cat_params))]\n",
    "\n",
    "# meta_model - default  RidgeCV  # score: 0.8478528009750723\n",
    "meta_model = XGBRegressor(**xgbr_params)  # score: 0.8605694219420743 kaglle score: 0.86038\n",
    "# meta_model = LGBMRegressor(**lgbm_params)  # score: \n",
    "# meta_model = CatBoostRegressor(**cat_params)  # score: \n",
    "\n",
    "# score test: "
   ]
  },
  {
   "cell_type": "code",
   "execution_count": 10,
   "id": "23608941-52ea-4ba5-946f-57c109215c2d",
   "metadata": {},
   "outputs": [
    {
     "data": {
      "text/plain": [
       "0.8605694219420743"
      ]
     },
     "execution_count": 10,
     "metadata": {},
     "output_type": "execute_result"
    }
   ],
   "source": [
    "# Validation model\n",
    "stacking_valid_model = StackingRegressor(estimators=base_models, final_estimator=meta_model)\n",
    "stacking_valid_model.fit(X_train, y_train)\n",
    "\n",
    "y_pred_val = stacking_valid_model.predict(X_test)\n",
    "r2_val = r2_score(y_test, y_pred_val)\n",
    "r2_val"
   ]
  },
  {
   "cell_type": "code",
   "execution_count": 11,
   "id": "1b2cf868-cb6d-4c75-9d1a-6aa1db08f762",
   "metadata": {},
   "outputs": [],
   "source": [
    "# # Testing model\n",
    "# stacking_test_model = StackingRegressor(estimators=base_models, final_estimator=meta_model)\n",
    "# stacking_test_model.fit(X, y)\n",
    "\n",
    "pred = stacking_valid_model.predict(df_pred)"
   ]
  },
  {
   "cell_type": "code",
   "execution_count": 12,
   "id": "a1b10a67-a799-40a4-9806-a00bb39dcb1a",
   "metadata": {},
   "outputs": [],
   "source": [
    "df_pred_duble = pd.read_csv('data/test.csv')\n",
    "df_pred_Id = df_pred_duble['id']\n",
    "\n",
    "output = pd.DataFrame({'id': df_pred_Id, 'FloodProbability': pred})\n",
    "output.to_csv('data/ensemble_model.csv', index=False)"
   ]
  },
  {
   "cell_type": "code",
   "execution_count": null,
   "id": "3bd81691-67b1-4e9c-8a45-8b22d41212ec",
   "metadata": {},
   "outputs": [],
   "source": []
  }
 ],
 "metadata": {
  "kernelspec": {
   "display_name": "Python 3 (ipykernel)",
   "language": "python",
   "name": "python3"
  },
  "language_info": {
   "codemirror_mode": {
    "name": "ipython",
    "version": 3
   },
   "file_extension": ".py",
   "mimetype": "text/x-python",
   "name": "python",
   "nbconvert_exporter": "python",
   "pygments_lexer": "ipython3",
   "version": "3.10.11"
  }
 },
 "nbformat": 4,
 "nbformat_minor": 5
}
